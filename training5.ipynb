{
 "cells": [
  {
   "cell_type": "code",
   "execution_count": 6,
   "id": "ebb19495-65e2-448c-9425-4792364a3604",
   "metadata": {},
   "outputs": [
    {
     "data": {
      "text/plain": [
       "{'A': 23, 'B': 56, 'C': 179}"
      ]
     },
     "execution_count": 6,
     "metadata": {},
     "output_type": "execute_result"
    }
   ],
   "source": [
    "d = {'A' : 23,'B' : 56,'C' : 179}\n",
    "d"
   ]
  },
  {
   "cell_type": "code",
   "execution_count": 12,
   "id": "26d80698-7221-4bf8-899e-f4f0a353f277",
   "metadata": {},
   "outputs": [
    {
     "data": {
      "text/plain": [
       "{'A': 34, 'B': 56, 'C': 179}"
      ]
     },
     "execution_count": 12,
     "metadata": {},
     "output_type": "execute_result"
    }
   ],
   "source": [
    "d['A']=34\n",
    "d"
   ]
  },
  {
   "cell_type": "code",
   "execution_count": 14,
   "id": "0351eb71-a642-4609-9ff8-a6330c194554",
   "metadata": {},
   "outputs": [
    {
     "data": {
      "text/plain": [
       "dict_keys(['A', 'B', 'C'])"
      ]
     },
     "execution_count": 14,
     "metadata": {},
     "output_type": "execute_result"
    }
   ],
   "source": [
    "d.keys()"
   ]
  },
  {
   "cell_type": "code",
   "execution_count": 16,
   "id": "de30d0f2-b4ea-4720-88f3-3840e774434c",
   "metadata": {},
   "outputs": [
    {
     "data": {
      "text/plain": [
       "dict_values([34, 56, 179])"
      ]
     },
     "execution_count": 16,
     "metadata": {},
     "output_type": "execute_result"
    }
   ],
   "source": [
    "d.values()"
   ]
  },
  {
   "cell_type": "code",
   "execution_count": 18,
   "id": "58fc3bb1-0c87-4e7c-a8fe-ad69f84d95cb",
   "metadata": {},
   "outputs": [
    {
     "data": {
      "text/plain": [
       "dict_items([('A', 34), ('B', 56), ('C', 179)])"
      ]
     },
     "execution_count": 18,
     "metadata": {},
     "output_type": "execute_result"
    }
   ],
   "source": [
    "d.items()"
   ]
  },
  {
   "cell_type": "code",
   "execution_count": 26,
   "id": "34d2c674-7d1e-45d3-bd01-b7ff26c50172",
   "metadata": {},
   "outputs": [
    {
     "data": {
      "text/plain": [
       "{'A': 'india', 'B': 56, 'C': 179}"
      ]
     },
     "execution_count": 26,
     "metadata": {},
     "output_type": "execute_result"
    }
   ],
   "source": [
    "d.update({'A': 'india'})\n",
    "d"
   ]
  },
  {
   "cell_type": "code",
   "execution_count": 28,
   "id": "03c87260-fd19-4b94-b1f4-5f09dcc6078e",
   "metadata": {},
   "outputs": [
    {
     "data": {
      "text/plain": [
       "{'A': 'india', 'B': 56, 'C': 179, 'Name': 'Akshaya'}"
      ]
     },
     "execution_count": 28,
     "metadata": {},
     "output_type": "execute_result"
    }
   ],
   "source": [
    "d.update({'Name': 'Akshaya'})\n",
    "d"
   ]
  },
  {
   "cell_type": "code",
   "execution_count": 40,
   "id": "aaaaa042-d193-4f40-b59e-e92687a68ef9",
   "metadata": {},
   "outputs": [
    {
     "data": {
      "text/plain": [
       "{'A': 363,\n",
       " 'C': 'aiml',\n",
       " 'Name': 'Akshaya',\n",
       " 'College': 'mallareddy',\n",
       " 'branch': 'aiml'}"
      ]
     },
     "execution_count": 40,
     "metadata": {},
     "output_type": "execute_result"
    }
   ],
   "source": [
    "d['A'] = 363\n",
    "d"
   ]
  },
  {
   "cell_type": "code",
   "execution_count": 44,
   "id": "eee3e4e7-2f9f-49ff-b0e7-be7c2ec17b80",
   "metadata": {},
   "outputs": [
    {
     "data": {
      "text/plain": [
       "{'C': 'aiml', 'Name': 'Akshaya', 'College': 'mallareddy', 'branch': 'aiml'}"
      ]
     },
     "execution_count": 44,
     "metadata": {},
     "output_type": "execute_result"
    }
   ],
   "source": [
    "del d['A']\n",
    "d"
   ]
  },
  {
   "cell_type": "code",
   "execution_count": 38,
   "id": "2190ba57-645d-48a8-bcbf-1998e8374562",
   "metadata": {},
   "outputs": [
    {
     "data": {
      "text/plain": [
       "{'A': 189,\n",
       " 'C': 'aiml',\n",
       " 'Name': 'Akshaya',\n",
       " 'College': 'mallareddy',\n",
       " 'branch': 'aiml'}"
      ]
     },
     "execution_count": 38,
     "metadata": {},
     "output_type": "execute_result"
    }
   ],
   "source": [
    "#in dictonories we cannot update keys but we can update values\n",
    "d.update({'branch':'aiml'})\n",
    "d.update({'College':'mallareddy'})\n",
    "d"
   ]
  },
  {
   "cell_type": "code",
   "execution_count": 52,
   "id": "ec382d71-fc45-404e-9ab3-07671709c345",
   "metadata": {},
   "outputs": [
    {
     "data": {
      "text/plain": [
       "dict"
      ]
     },
     "execution_count": 52,
     "metadata": {},
     "output_type": "execute_result"
    }
   ],
   "source": [
    "type(d)"
   ]
  },
  {
   "cell_type": "code",
   "execution_count": 54,
   "id": "afd8ea9d-6ec4-4bcf-b967-fa161481398e",
   "metadata": {},
   "outputs": [
    {
     "data": {
      "text/plain": [
       "{'C': 'aiml', 'Name': 'Akshaya', 'College': 'mallareddy', 'branch': 'aiml'}"
      ]
     },
     "execution_count": 54,
     "metadata": {},
     "output_type": "execute_result"
    }
   ],
   "source": [
    "d"
   ]
  },
  {
   "cell_type": "code",
   "execution_count": 56,
   "id": "685354a2-1c32-4786-88ae-5a569dbf6ec5",
   "metadata": {},
   "outputs": [
    {
     "data": {
      "text/plain": [
       "str"
      ]
     },
     "execution_count": 56,
     "metadata": {},
     "output_type": "execute_result"
    }
   ],
   "source": [
    "type(d['C'])"
   ]
  },
  {
   "cell_type": "code",
   "execution_count": 60,
   "id": "87ac2fe2-ead3-4b9a-8833-8e431565a372",
   "metadata": {},
   "outputs": [
    {
     "data": {
      "text/plain": [
       "'aiml'"
      ]
     },
     "execution_count": 60,
     "metadata": {},
     "output_type": "execute_result"
    }
   ],
   "source": [
    "d['branch']"
   ]
  },
  {
   "cell_type": "code",
   "execution_count": 86,
   "id": "a9b5b537-e2ef-47fb-bbc4-6854ae42c66b",
   "metadata": {},
   "outputs": [
    {
     "data": {
      "text/plain": [
       "'hello'"
      ]
     },
     "execution_count": 86,
     "metadata": {},
     "output_type": "execute_result"
    }
   ],
   "source": [
    "a='hello'\n",
    "a"
   ]
  },
  {
   "cell_type": "code",
   "execution_count": 88,
   "id": "91d02aca-606d-49fa-aad4-a9f6ac2cf32a",
   "metadata": {},
   "outputs": [
    {
     "data": {
      "text/plain": [
       "'HELLO'"
      ]
     },
     "execution_count": 88,
     "metadata": {},
     "output_type": "execute_result"
    }
   ],
   "source": [
    "a.upper()"
   ]
  },
  {
   "cell_type": "code",
   "execution_count": 76,
   "id": "5ecb12a3-8509-42b3-ae2d-10f63d93b74e",
   "metadata": {},
   "outputs": [
    {
     "data": {
      "text/plain": [
       "False"
      ]
     },
     "execution_count": 76,
     "metadata": {},
     "output_type": "execute_result"
    }
   ],
   "source": [
    "a.isdigit()"
   ]
  },
  {
   "cell_type": "code",
   "execution_count": 98,
   "id": "0eca5cc9-fc04-493b-8e78-06647c302bf0",
   "metadata": {},
   "outputs": [
    {
     "data": {
      "text/plain": [
       "'143'"
      ]
     },
     "execution_count": 98,
     "metadata": {},
     "output_type": "execute_result"
    }
   ],
   "source": [
    "b=\"143\"\n",
    "b"
   ]
  },
  {
   "cell_type": "code",
   "execution_count": 100,
   "id": "7bdc0150-1379-4f9e-9469-a671ea3c419e",
   "metadata": {},
   "outputs": [
    {
     "data": {
      "text/plain": [
       "True"
      ]
     },
     "execution_count": 100,
     "metadata": {},
     "output_type": "execute_result"
    }
   ],
   "source": [
    "b.isdigit()"
   ]
  },
  {
   "cell_type": "code",
   "execution_count": 102,
   "id": "9fe5453f-8366-4178-9e8c-3c8ba1c92bd6",
   "metadata": {},
   "outputs": [
    {
     "data": {
      "text/plain": [
       "'143'"
      ]
     },
     "execution_count": 102,
     "metadata": {},
     "output_type": "execute_result"
    }
   ],
   "source": [
    "b.upper()"
   ]
  },
  {
   "cell_type": "code",
   "execution_count": 116,
   "id": "3e55de46-23b2-4900-bb6e-a823a04a20b5",
   "metadata": {},
   "outputs": [
    {
     "data": {
      "text/plain": [
       "1"
      ]
     },
     "execution_count": 116,
     "metadata": {},
     "output_type": "execute_result"
    }
   ],
   "source": [
    "d['C'].count('aiml')"
   ]
  },
  {
   "cell_type": "code",
   "execution_count": 126,
   "id": "92b941a4-f643-4a9c-9859-fcf756e26065",
   "metadata": {},
   "outputs": [
    {
     "data": {
      "text/plain": [
       "{'C': 'aiml',\n",
       " 'Name': 'Akshaya',\n",
       " 'College': 'mallareddy',\n",
       " 'branch': 'aiml',\n",
       " 'c': 'AIML'}"
      ]
     },
     "execution_count": 126,
     "metadata": {},
     "output_type": "execute_result"
    }
   ],
   "source": [
    "d['c']=d['C'].upper()\n",
    "d"
   ]
  },
  {
   "cell_type": "code",
   "execution_count": 132,
   "id": "ead16288-a53d-437f-8011-9204eea42ca5",
   "metadata": {},
   "outputs": [
    {
     "data": {
      "text/plain": [
       "{'C': 'aiml',\n",
       " 'Name': 'akshaya',\n",
       " 'College': 'mallareddy',\n",
       " 'branch': 'aiml',\n",
       " 'c': 'AIML'}"
      ]
     },
     "execution_count": 132,
     "metadata": {},
     "output_type": "execute_result"
    }
   ],
   "source": [
    "d['Name']=d['Name'].lower()\n",
    "d"
   ]
  },
  {
   "cell_type": "code",
   "execution_count": 136,
   "id": "631c7c7a-e774-4d21-8d4f-b23ba653028e",
   "metadata": {},
   "outputs": [
    {
     "data": {
      "text/plain": [
       "{'C': 'aiml',\n",
       " 'Name': 'akshaya',\n",
       " 'College': 'mallareddy',\n",
       " 'branch': 'aiml',\n",
       " 'c': 'AIML',\n",
       " 'college': 'MALLAREDDY'}"
      ]
     },
     "execution_count": 136,
     "metadata": {},
     "output_type": "execute_result"
    }
   ],
   "source": [
    "d['college']=d['College'].upper()\n",
    "d"
   ]
  },
  {
   "cell_type": "code",
   "execution_count": null,
   "id": "54d16db4-8528-4111-bed0-c4800fa6fa63",
   "metadata": {},
   "outputs": [],
   "source": []
  }
 ],
 "metadata": {
  "kernelspec": {
   "display_name": "Python [conda env:base] *",
   "language": "python",
   "name": "conda-base-py"
  },
  "language_info": {
   "codemirror_mode": {
    "name": "ipython",
    "version": 3
   },
   "file_extension": ".py",
   "mimetype": "text/x-python",
   "name": "python",
   "nbconvert_exporter": "python",
   "pygments_lexer": "ipython3",
   "version": "3.12.7"
  }
 },
 "nbformat": 4,
 "nbformat_minor": 5
}
