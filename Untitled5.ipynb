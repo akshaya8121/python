{
 "cells": [
  {
   "cell_type": "code",
   "execution_count": 2,
   "id": "f86f70b8-47ad-4bd9-8f33-35034d145789",
   "metadata": {},
   "outputs": [],
   "source": [
    "import numpy as np"
   ]
  },
  {
   "cell_type": "code",
   "execution_count": 8,
   "id": "cdbb5a06-830a-4035-abba-0f82dcf6ed1d",
   "metadata": {},
   "outputs": [
    {
     "data": {
      "text/plain": [
       "array([[94, 83, 67, 46, 34, 96, 90, 97],\n",
       "       [85, 95, 47, 73, 64, 34, 34, 42],\n",
       "       [59, 65, 46, 73, 44, 37, 70, 68],\n",
       "       [79, 87, 57, 48, 55, 83, 31, 49],\n",
       "       [76, 52, 78, 74, 38, 81, 31, 71],\n",
       "       [91, 73, 93, 33, 42, 41, 78, 66],\n",
       "       [54, 47, 44, 54, 58, 89, 36, 84]])"
      ]
     },
     "execution_count": 8,
     "metadata": {},
     "output_type": "execute_result"
    }
   ],
   "source": [
    "a=np.random.randint(30,99,(7,8))\n",
    "a"
   ]
  },
  {
   "cell_type": "code",
   "execution_count": 10,
   "id": "4e1becfa-3049-4ecb-9e94-ed80e89898b0",
   "metadata": {},
   "outputs": [
    {
     "data": {
      "text/plain": [
       "(7, 8)"
      ]
     },
     "execution_count": 10,
     "metadata": {},
     "output_type": "execute_result"
    }
   ],
   "source": [
    "a.shape"
   ]
  },
  {
   "cell_type": "code",
   "execution_count": 12,
   "id": "4da19974-890e-4987-8896-d5819a5ce17e",
   "metadata": {},
   "outputs": [
    {
     "data": {
      "text/plain": [
       "2"
      ]
     },
     "execution_count": 12,
     "metadata": {},
     "output_type": "execute_result"
    }
   ],
   "source": [
    "a.ndim"
   ]
  },
  {
   "cell_type": "code",
   "execution_count": 36,
   "id": "4a81cd5a-327e-4302-8b94-4a1363751925",
   "metadata": {},
   "outputs": [
    {
     "data": {
      "text/plain": [
       "array([[30, 77, 74, 63, 26, 29, 47, 33, 54],\n",
       "       [47, 62, 61, 27, 66, 75, 68, 40, 64],\n",
       "       [77, 33, 38, 20, 47, 46, 42, 56, 21],\n",
       "       [45, 77, 25, 29, 54, 70, 69, 58, 79],\n",
       "       [70, 31, 78, 39, 51, 79, 39, 79, 50],\n",
       "       [21, 27, 79, 68, 20, 22, 34, 63, 31],\n",
       "       [47, 68, 48, 36, 35, 57, 50, 74, 46],\n",
       "       [61, 57, 74, 41, 48, 23, 53, 23, 45]])"
      ]
     },
     "execution_count": 36,
     "metadata": {},
     "output_type": "execute_result"
    }
   ],
   "source": [
    "b=np.random.randint(20,80,(8,9))\n",
    "b"
   ]
  },
  {
   "cell_type": "code",
   "execution_count": 38,
   "id": "45e7e903-de1f-4d3a-8bc1-19bd2eda7989",
   "metadata": {},
   "outputs": [
    {
     "data": {
      "text/plain": [
       "(8, 9)"
      ]
     },
     "execution_count": 38,
     "metadata": {},
     "output_type": "execute_result"
    }
   ],
   "source": [
    "b.shape"
   ]
  },
  {
   "cell_type": "code",
   "execution_count": 40,
   "id": "6eab3775-25eb-4637-88e2-f32523298241",
   "metadata": {},
   "outputs": [
    {
     "data": {
      "text/plain": [
       "2"
      ]
     },
     "execution_count": 40,
     "metadata": {},
     "output_type": "execute_result"
    }
   ],
   "source": [
    "b.ndim"
   ]
  },
  {
   "cell_type": "code",
   "execution_count": 42,
   "id": "bc81eb42-4db3-4ac1-a970-9ec039f36270",
   "metadata": {},
   "outputs": [
    {
     "data": {
      "text/plain": [
       "61"
      ]
     },
     "execution_count": 42,
     "metadata": {},
     "output_type": "execute_result"
    }
   ],
   "source": [
    "b[7,0]"
   ]
  },
  {
   "cell_type": "code",
   "execution_count": 44,
   "id": "6fcd766c-a15f-46fb-96ab-746652b4abc7",
   "metadata": {},
   "outputs": [
    {
     "data": {
      "text/plain": [
       "array([[33, 38, 20, 47, 46, 42],\n",
       "       [77, 25, 29, 54, 70, 69],\n",
       "       [31, 78, 39, 51, 79, 39],\n",
       "       [27, 79, 68, 20, 22, 34]])"
      ]
     },
     "execution_count": 44,
     "metadata": {},
     "output_type": "execute_result"
    }
   ],
   "source": [
    "b[2:6:1,1:7:1]\n"
   ]
  },
  {
   "cell_type": "code",
   "execution_count": 46,
   "id": "d41539b9-f507-4891-a3eb-c9393b69d770",
   "metadata": {},
   "outputs": [],
   "source": [
    "import pandas as pd"
   ]
  },
  {
   "cell_type": "code",
   "execution_count": 58,
   "id": "3a88baca-a4cc-4ba4-a267-d5f2b6c248f7",
   "metadata": {},
   "outputs": [
    {
     "data": {
      "text/plain": [
       "[[4, 7], [2, 9], [7, 3], [90, 50]]"
      ]
     },
     "execution_count": 58,
     "metadata": {},
     "output_type": "execute_result"
    }
   ],
   "source": [
    "k=[[4,7],[2,9],[7,3],[90,50]]\n",
    "k"
   ]
  },
  {
   "cell_type": "code",
   "execution_count": 60,
   "id": "c3ee4ba2-8f3a-415b-be83-6a858d19b337",
   "metadata": {},
   "outputs": [
    {
     "data": {
      "text/plain": [
       "array([[ 4,  7],\n",
       "       [ 2,  9],\n",
       "       [ 7,  3],\n",
       "       [90, 50]])"
      ]
     },
     "execution_count": 60,
     "metadata": {},
     "output_type": "execute_result"
    }
   ],
   "source": [
    "t=np.array(k)\n",
    "t"
   ]
  },
  {
   "cell_type": "raw",
   "id": "a805fc6b-d31b-40d5-bf1a-b57291cd5f6e",
   "metadata": {},
   "source": [
    "pd.Series(k)"
   ]
  },
  {
   "cell_type": "code",
   "execution_count": 62,
   "id": "c064745b-974e-4be9-b56b-0e8775fe4987",
   "metadata": {},
   "outputs": [
    {
     "data": {
      "text/plain": [
       "0      [4, 7]\n",
       "1      [2, 9]\n",
       "2      [7, 3]\n",
       "3    [90, 50]\n",
       "dtype: object"
      ]
     },
     "execution_count": 62,
     "metadata": {},
     "output_type": "execute_result"
    }
   ],
   "source": [
    "pd.Series(k)"
   ]
  },
  {
   "cell_type": "code",
   "execution_count": 64,
   "id": "77765209-d75c-49c6-b0a6-6c171bc0db28",
   "metadata": {},
   "outputs": [
    {
     "data": {
      "text/html": [
       "<div>\n",
       "<style scoped>\n",
       "    .dataframe tbody tr th:only-of-type {\n",
       "        vertical-align: middle;\n",
       "    }\n",
       "\n",
       "    .dataframe tbody tr th {\n",
       "        vertical-align: top;\n",
       "    }\n",
       "\n",
       "    .dataframe thead th {\n",
       "        text-align: right;\n",
       "    }\n",
       "</style>\n",
       "<table border=\"1\" class=\"dataframe\">\n",
       "  <thead>\n",
       "    <tr style=\"text-align: right;\">\n",
       "      <th></th>\n",
       "      <th>0</th>\n",
       "      <th>1</th>\n",
       "    </tr>\n",
       "  </thead>\n",
       "  <tbody>\n",
       "    <tr>\n",
       "      <th>0</th>\n",
       "      <td>4</td>\n",
       "      <td>7</td>\n",
       "    </tr>\n",
       "    <tr>\n",
       "      <th>1</th>\n",
       "      <td>2</td>\n",
       "      <td>9</td>\n",
       "    </tr>\n",
       "    <tr>\n",
       "      <th>2</th>\n",
       "      <td>7</td>\n",
       "      <td>3</td>\n",
       "    </tr>\n",
       "    <tr>\n",
       "      <th>3</th>\n",
       "      <td>90</td>\n",
       "      <td>50</td>\n",
       "    </tr>\n",
       "  </tbody>\n",
       "</table>\n",
       "</div>"
      ],
      "text/plain": [
       "    0   1\n",
       "0   4   7\n",
       "1   2   9\n",
       "2   7   3\n",
       "3  90  50"
      ]
     },
     "execution_count": 64,
     "metadata": {},
     "output_type": "execute_result"
    }
   ],
   "source": [
    "pd.DataFrame(t)"
   ]
  },
  {
   "cell_type": "code",
   "execution_count": 86,
   "id": "4e9a11a6-0e99-4e40-95a4-0596ba23e464",
   "metadata": {},
   "outputs": [
    {
     "data": {
      "text/html": [
       "<div>\n",
       "<style scoped>\n",
       "    .dataframe tbody tr th:only-of-type {\n",
       "        vertical-align: middle;\n",
       "    }\n",
       "\n",
       "    .dataframe tbody tr th {\n",
       "        vertical-align: top;\n",
       "    }\n",
       "\n",
       "    .dataframe thead th {\n",
       "        text-align: right;\n",
       "    }\n",
       "</style>\n",
       "<table border=\"1\" class=\"dataframe\">\n",
       "  <thead>\n",
       "    <tr style=\"text-align: right;\">\n",
       "      <th></th>\n",
       "      <th>name</th>\n",
       "      <th>sub</th>\n",
       "    </tr>\n",
       "  </thead>\n",
       "  <tbody>\n",
       "    <tr>\n",
       "      <th>289</th>\n",
       "      <td>4</td>\n",
       "      <td>7</td>\n",
       "    </tr>\n",
       "    <tr>\n",
       "      <th>290</th>\n",
       "      <td>2</td>\n",
       "      <td>9</td>\n",
       "    </tr>\n",
       "    <tr>\n",
       "      <th>291</th>\n",
       "      <td>7</td>\n",
       "      <td>3</td>\n",
       "    </tr>\n",
       "    <tr>\n",
       "      <th>292</th>\n",
       "      <td>90</td>\n",
       "      <td>50</td>\n",
       "    </tr>\n",
       "  </tbody>\n",
       "</table>\n",
       "</div>"
      ],
      "text/plain": [
       "     name  sub\n",
       "289     4    7\n",
       "290     2    9\n",
       "291     7    3\n",
       "292    90   50"
      ]
     },
     "execution_count": 86,
     "metadata": {},
     "output_type": "execute_result"
    }
   ],
   "source": [
    "df=pd.DataFrame(t,columns=['name','sub'],index=[289,290,291,292])\n",
    "df"
   ]
  },
  {
   "cell_type": "code",
   "execution_count": 88,
   "id": "47f4339e-aae1-4738-8a4c-0cda7acfa9f5",
   "metadata": {},
   "outputs": [
    {
     "data": {
      "text/plain": [
       "Index(['name', 'sub'], dtype='object')"
      ]
     },
     "execution_count": 88,
     "metadata": {},
     "output_type": "execute_result"
    }
   ],
   "source": [
    "df.columns"
   ]
  },
  {
   "cell_type": "code",
   "execution_count": 90,
   "id": "60e9bad1-e420-4ecb-875d-4729253cf8b8",
   "metadata": {},
   "outputs": [
    {
     "data": {
      "text/plain": [
       "289     7\n",
       "290     9\n",
       "291     3\n",
       "292    50\n",
       "Name: sub, dtype: int32"
      ]
     },
     "execution_count": 90,
     "metadata": {},
     "output_type": "execute_result"
    }
   ],
   "source": [
    "df['sub']"
   ]
  },
  {
   "cell_type": "code",
   "execution_count": 92,
   "id": "b7545550-5c3d-4951-9a62-c31fa0fae011",
   "metadata": {},
   "outputs": [
    {
     "data": {
      "text/plain": [
       "3"
      ]
     },
     "execution_count": 92,
     "metadata": {},
     "output_type": "execute_result"
    }
   ],
   "source": [
    "df['sub'].min()"
   ]
  },
  {
   "cell_type": "code",
   "execution_count": null,
   "id": "4ed7ecbc-ac41-4d51-a29c-2a04b7f2bbf6",
   "metadata": {},
   "outputs": [],
   "source": [
    "df["
   ]
  }
 ],
 "metadata": {
  "kernelspec": {
   "display_name": "Python [conda env:base] *",
   "language": "python",
   "name": "conda-base-py"
  },
  "language_info": {
   "codemirror_mode": {
    "name": "ipython",
    "version": 3
   },
   "file_extension": ".py",
   "mimetype": "text/x-python",
   "name": "python",
   "nbconvert_exporter": "python",
   "pygments_lexer": "ipython3",
   "version": "3.12.7"
  }
 },
 "nbformat": 4,
 "nbformat_minor": 5
}
