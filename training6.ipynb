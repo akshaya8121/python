{
 "cells": [
  {
   "cell_type": "code",
   "execution_count": 3,
   "id": "95a809df-75ec-465d-8348-fb0610573791",
   "metadata": {},
   "outputs": [
    {
     "name": "stdout",
     "output_type": "stream",
     "text": [
      "Odd\n"
     ]
    }
   ],
   "source": [
    "x=9\n",
    "if x%2==0:\n",
    "    print(\"Even\")\n",
    "else:\n",
    "    print(\"Odd\")"
   ]
  },
  {
   "cell_type": "code",
   "execution_count": 7,
   "id": "e8ea6c8d-c29b-4de9-a3bc-b9ec05859c71",
   "metadata": {},
   "outputs": [
    {
     "name": "stdout",
     "output_type": "stream",
     "text": [
      "Even\n"
     ]
    }
   ],
   "source": [
    "x=8\n",
    "if x%2==0:\n",
    "    print(\"Even\")\n",
    "else:\n",
    "    print(\"Odd\")"
   ]
  },
  {
   "cell_type": "code",
   "execution_count": 14,
   "id": "cdadb0ab-3116-4ff6-b37e-37b6d7bc5a74",
   "metadata": {},
   "outputs": [
    {
     "data": {
      "text/plain": [
       "2"
      ]
     },
     "execution_count": 14,
     "metadata": {},
     "output_type": "execute_result"
    }
   ],
   "source": [
    "x>>2"
   ]
  },
  {
   "cell_type": "code",
   "execution_count": 16,
   "id": "b56a575f-0a21-4df5-a63c-e8d51dd6282f",
   "metadata": {},
   "outputs": [
    {
     "data": {
      "text/plain": [
       "True"
      ]
     },
     "execution_count": 16,
     "metadata": {},
     "output_type": "execute_result"
    }
   ],
   "source": [
    "x>2\n"
   ]
  },
  {
   "cell_type": "code",
   "execution_count": 18,
   "id": "950d53d7-6f60-4439-a9ec-bcee140cc408",
   "metadata": {},
   "outputs": [
    {
     "data": {
      "text/plain": [
       "14.7"
      ]
     },
     "execution_count": 18,
     "metadata": {},
     "output_type": "execute_result"
    }
   ],
   "source": [
    "x+6.7"
   ]
  },
  {
   "cell_type": "code",
   "execution_count": 22,
   "id": "397309d8-6262-4264-8e55-62d3e58f20e4",
   "metadata": {},
   "outputs": [
    {
     "name": "stdout",
     "output_type": "stream",
     "text": [
      "Even\n"
     ]
    }
   ],
   "source": [
    "x=8\n",
    "if x+6:\n",
    "    print(\"Even\")\n",
    "else:\n",
    "    print(\"Odd\")\n"
   ]
  },
  {
   "cell_type": "code",
   "execution_count": 34,
   "id": "df0241e2-fa1c-47f0-a605-c386368f1993",
   "metadata": {},
   "outputs": [
    {
     "name": "stdout",
     "output_type": "stream",
     "text": [
      "pos\n"
     ]
    }
   ],
   "source": [
    "x=5.8\n",
    "if x>0:\n",
    "    print(\"pos\")\n",
    "elif x<0:\n",
    "    print(\"neg\")\n",
    "else:\n",
    "    print(\"zero\")"
   ]
  },
  {
   "cell_type": "code",
   "execution_count": 30,
   "id": "c61cac49-82aa-41c0-9c8c-cfee78b24b4b",
   "metadata": {},
   "outputs": [
    {
     "name": "stdout",
     "output_type": "stream",
     "text": [
      "zero\n"
     ]
    }
   ],
   "source": [
    "x=5.8\n",
    "if x<0:\n",
    "    print(\"pos\")\n",
    "elif x<0:\n",
    "    print(\"neg\")\n",
    "else:\n",
    "    print(\"zero\")"
   ]
  },
  {
   "cell_type": "code",
   "execution_count": 32,
   "id": "87e064bb-2be4-4fe7-b78b-22e831e668ef",
   "metadata": {},
   "outputs": [
    {
     "name": "stdout",
     "output_type": "stream",
     "text": [
      "neg\n"
     ]
    }
   ],
   "source": [
    "x=-10.9\n",
    "if x>0:\n",
    "    print(\"pos\")\n",
    "elif x<0:\n",
    "    print(\"neg\")\n",
    "else:\n",
    "    print(\"zero\")"
   ]
  },
  {
   "cell_type": "code",
   "execution_count": 42,
   "id": "ed27da16-c57a-4e4d-bd6b-a37e70a672dd",
   "metadata": {},
   "outputs": [
    {
     "name": "stdout",
     "output_type": "stream",
     "text": [
      "pos\n",
      "K\n"
     ]
    }
   ],
   "source": [
    "x=6\n",
    "if x>0:\n",
    "    print(\"pos\")\n",
    "    if x>10:\n",
    "        print(\"M\")\n",
    "    elif x<20:\n",
    "        print(\"K\")\n",
    "    elif x<10:\n",
    "        print(\"X\")\n",
    "    else:\n",
    "        print(\"T\")\n",
    "elif x<0:\n",
    "    print(\"neg\")\n",
    "    if x<=-20:\n",
    "        print(\"Q\")\n",
    "    elif x>-10:\n",
    "        print(\"C\")\n",
    "    elif x>-30:\n",
    "        print(\"Z\")\n",
    "else:\n",
    "    print(\"zero\")"
   ]
  },
  {
   "cell_type": "code",
   "execution_count": 50,
   "id": "b441fbd3-f9a2-48db-997b-61e8a03cd149",
   "metadata": {},
   "outputs": [
    {
     "name": "stdin",
     "output_type": "stream",
     "text": [
      " x='telangana' x='Tiger' x='Tan'\n"
     ]
    },
    {
     "name": "stdout",
     "output_type": "stream",
     "text": [
      "no\n"
     ]
    }
   ],
   "source": [
    "x=input()\n",
    "if x[0]=='T' or x[0]=='t':\n",
    "    print('yes')\n",
    "else:\n",
    "    print('no')"
   ]
  },
  {
   "cell_type": "code",
   "execution_count": 48,
   "id": "73769c64-6e45-41f7-a24f-9f1af8ce71ee",
   "metadata": {},
   "outputs": [],
   "source": [
    "x='telangana'\n",
    "x='Tiger'\n",
    "x='Tan'"
   ]
  },
  {
   "cell_type": "code",
   "execution_count": 52,
   "id": "666b0a35-d3b4-4ece-a4f3-f89d2b7b26d4",
   "metadata": {},
   "outputs": [
    {
     "name": "stdout",
     "output_type": "stream",
     "text": [
      "yes\n"
     ]
    }
   ],
   "source": [
    "x='tiger'\n",
    "if x[0]=='T' or x[0]=='t':\n",
    "    print('yes')\n",
    "else:\n",
    "    print('no')"
   ]
  },
  {
   "cell_type": "code",
   "execution_count": 54,
   "id": "e64059c8-2650-4c24-8f54-09ea549e052b",
   "metadata": {},
   "outputs": [],
   "source": [
    "x='lion'\n",
    "x='mumbai'"
   ]
  },
  {
   "cell_type": "code",
   "execution_count": 58,
   "id": "cf229180-694a-41e1-95a4-12aee6e12262",
   "metadata": {},
   "outputs": [
    {
     "name": "stdout",
     "output_type": "stream",
     "text": [
      "no\n"
     ]
    }
   ],
   "source": [
    "x='lion'\n",
    "if x[0]=='T' or x[0]=='t':\n",
    "    print('yes')\n",
    "else:\n",
    "    print('no')"
   ]
  },
  {
   "cell_type": "code",
   "execution_count": 60,
   "id": "43f8e35e-19d7-4162-8ce4-4fcc5b5dd8fd",
   "metadata": {},
   "outputs": [
    {
     "name": "stdout",
     "output_type": "stream",
     "text": [
      "yes\n"
     ]
    }
   ],
   "source": [
    "x='sanju'\n",
    "if x[0]=='S' or x[0]=='s':\n",
    "    print('yes')\n",
    "else:\n",
    "    print('no')"
   ]
  },
  {
   "cell_type": "code",
   "execution_count": 62,
   "id": "4b3bc1d6-7573-477c-9054-89ffb5bbcdb6",
   "metadata": {},
   "outputs": [
    {
     "name": "stdout",
     "output_type": "stream",
     "text": [
      "no\n"
     ]
    }
   ],
   "source": [
    "x='lion'\n",
    "if x[0]=='S' or x[0]=='s':\n",
    "    print('yes')\n",
    "else:\n",
    "    print('no')"
   ]
  },
  {
   "cell_type": "code",
   "execution_count": 64,
   "id": "cc69f3a9-1c6e-464e-8d45-efefebfc801a",
   "metadata": {},
   "outputs": [
    {
     "name": "stdout",
     "output_type": "stream",
     "text": [
      "yes\n"
     ]
    }
   ],
   "source": [
    "x='Mango'\n",
    "if x[0]=='M' or x[0]=='m':\n",
    "    print('yes')\n",
    "else:\n",
    "    print('no')"
   ]
  },
  {
   "cell_type": "code",
   "execution_count": 66,
   "id": "e37d1051-b74f-4efb-95dc-9d6f18179029",
   "metadata": {},
   "outputs": [
    {
     "name": "stdout",
     "output_type": "stream",
     "text": [
      "no\n"
     ]
    }
   ],
   "source": [
    "x='lion'\n",
    "if x[0]=='M' or x[0]=='m':\n",
    "    print('yes')\n",
    "else:\n",
    "    print('no')"
   ]
  },
  {
   "cell_type": "code",
   "execution_count": 68,
   "id": "f3aa8e56-17dd-45f6-a9ba-201505844c7b",
   "metadata": {},
   "outputs": [
    {
     "name": "stdin",
     "output_type": "stream",
     "text": [
      " hyderabad\n"
     ]
    },
    {
     "name": "stdout",
     "output_type": "stream",
     "text": [
      "no\n"
     ]
    }
   ],
   "source": [
    "x=input()\n",
    "if x[0]=='T' or x[0]=='t':\n",
    "    print('yes')\n",
    "else:\n",
    "    print('no')"
   ]
  },
  {
   "cell_type": "code",
   "execution_count": 70,
   "id": "ad490fec-b99c-482e-bb5d-348078d17e3b",
   "metadata": {},
   "outputs": [
    {
     "name": "stdout",
     "output_type": "stream",
     "text": [
      "no\n"
     ]
    }
   ],
   "source": [
    "x='lion'\n",
    "if x[0]=='T' or x[0]=='t':\n",
    "    print('yes')\n",
    "else:\n",
    "    print('no')"
   ]
  },
  {
   "cell_type": "code",
   "execution_count": 72,
   "id": "5a37a0d2-7d83-47ec-afd2-83c4bc7054ca",
   "metadata": {},
   "outputs": [
    {
     "name": "stdin",
     "output_type": "stream",
     "text": [
      " sanju\n"
     ]
    },
    {
     "name": "stdout",
     "output_type": "stream",
     "text": [
      "yes\n"
     ]
    }
   ],
   "source": [
    "x=input()\n",
    "if x[0]=='S' or x[0]=='s':\n",
    "    print('yes')\n",
    "else:\n",
    "    print('no')"
   ]
  },
  {
   "cell_type": "code",
   "execution_count": 74,
   "id": "bafe28f2-a05c-4fe1-a572-9727af01a7fb",
   "metadata": {},
   "outputs": [
    {
     "name": "stdin",
     "output_type": "stream",
     "text": [
      " telangana\n"
     ]
    },
    {
     "name": "stdout",
     "output_type": "stream",
     "text": [
      "yes\n"
     ]
    }
   ],
   "source": [
    "x=input()\n",
    "if x[0]=='T' or x[0]=='t':\n",
    "    print('yes')\n",
    "else:\n",
    "    print('no')"
   ]
  },
  {
   "cell_type": "code",
   "execution_count": 78,
   "id": "d3f07580-d7d9-45e1-b921-e16748242c51",
   "metadata": {},
   "outputs": [
    {
     "name": "stdout",
     "output_type": "stream",
     "text": [
      "yes\n"
     ]
    }
   ],
   "source": [
    "x='Tiger'\n",
    "if x[0].lower()=='t':\n",
    "    print('yes')\n",
    "else:\n",
    "    print('No')"
   ]
  },
  {
   "cell_type": "code",
   "execution_count": 82,
   "id": "fdbb234a-17b9-4166-add0-52e85b28f46d",
   "metadata": {},
   "outputs": [
    {
     "ename": "SyntaxError",
     "evalue": "invalid syntax. Maybe you meant '==' or ':=' instead of '='? (1355636494.py, line 1)",
     "output_type": "error",
     "traceback": [
      "\u001b[1;36m  Cell \u001b[1;32mIn[82], line 1\u001b[1;36m\u001b[0m\n\u001b[1;33m    if x=[0].lower() in ('23','56'):\u001b[0m\n\u001b[1;37m       ^\u001b[0m\n\u001b[1;31mSyntaxError\u001b[0m\u001b[1;31m:\u001b[0m invalid syntax. Maybe you meant '==' or ':=' instead of '='?\n"
     ]
    }
   ],
   "source": [
    "if x[0].lower() in ('23','56'):\n",
    "    print('yes')\n",
    "else:\n",
    "    print('No')"
   ]
  },
  {
   "cell_type": "code",
   "execution_count": null,
   "id": "d099b0f2-2bfd-4382-84a6-92b723851710",
   "metadata": {},
   "outputs": [],
   "source": []
  }
 ],
 "metadata": {
  "kernelspec": {
   "display_name": "Python [conda env:base] *",
   "language": "python",
   "name": "conda-base-py"
  },
  "language_info": {
   "codemirror_mode": {
    "name": "ipython",
    "version": 3
   },
   "file_extension": ".py",
   "mimetype": "text/x-python",
   "name": "python",
   "nbconvert_exporter": "python",
   "pygments_lexer": "ipython3",
   "version": "3.12.7"
  }
 },
 "nbformat": 4,
 "nbformat_minor": 5
}
