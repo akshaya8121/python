{
 "cells": [
  {
   "cell_type": "code",
   "execution_count": 4,
   "id": "bb91545c-4219-43c2-8c46-4d74c1d2e70c",
   "metadata": {},
   "outputs": [
    {
     "name": "stdout",
     "output_type": "stream",
     "text": [
      "yes\n",
      "yes\n",
      "yes\n",
      "yes\n",
      "yes\n"
     ]
    }
   ],
   "source": [
    "x=5\n",
    "while x<10:\n",
    "    print('yes')\n",
    "    x=x+1\n",
    "    "
   ]
  },
  {
   "cell_type": "code",
   "execution_count": 6,
   "id": "5f9d4561-d06e-47f1-8bac-ac1e52269687",
   "metadata": {},
   "outputs": [
    {
     "data": {
      "text/plain": [
       "[40, 35, 67, 98, 22]"
      ]
     },
     "execution_count": 6,
     "metadata": {},
     "output_type": "execute_result"
    }
   ],
   "source": [
    "y=[40,35,67,98,22]\n",
    "y"
   ]
  },
  {
   "cell_type": "code",
   "execution_count": 8,
   "id": "e1881946-7afd-44c8-9be4-dc8a2f2e4fe7",
   "metadata": {},
   "outputs": [
    {
     "data": {
      "text/plain": [
       "40"
      ]
     },
     "execution_count": 8,
     "metadata": {},
     "output_type": "execute_result"
    }
   ],
   "source": [
    "y[0]"
   ]
  },
  {
   "cell_type": "code",
   "execution_count": 10,
   "id": "54cedbbf-02ba-4b1a-aecb-b70691abec85",
   "metadata": {},
   "outputs": [
    {
     "data": {
      "text/plain": [
       "103"
      ]
     },
     "execution_count": 10,
     "metadata": {},
     "output_type": "execute_result"
    }
   ],
   "source": [
    "y[3]+5"
   ]
  },
  {
   "cell_type": "code",
   "execution_count": 12,
   "id": "74e6b383-8fd5-4f4d-bed4-cd5e45ea1915",
   "metadata": {},
   "outputs": [
    {
     "data": {
      "text/plain": [
       "165"
      ]
     },
     "execution_count": 12,
     "metadata": {},
     "output_type": "execute_result"
    }
   ],
   "source": [
    "y[3]+y[2]"
   ]
  },
  {
   "cell_type": "code",
   "execution_count": 16,
   "id": "0c439d49-9805-4b5c-8c94-51fa19a7aa1e",
   "metadata": {},
   "outputs": [
    {
     "data": {
      "text/plain": [
       "[40, 35, 67, 98, 22, 40, 35, 67, 98, 22]"
      ]
     },
     "execution_count": 16,
     "metadata": {},
     "output_type": "execute_result"
    }
   ],
   "source": [
    "y*2"
   ]
  },
  {
   "cell_type": "code",
   "execution_count": 20,
   "id": "f08cb318-7033-401b-bf30-5f0850f26a95",
   "metadata": {},
   "outputs": [
    {
     "name": "stdout",
     "output_type": "stream",
     "text": [
      "40\n",
      "35\n",
      "67\n",
      "98\n",
      "22\n"
     ]
    }
   ],
   "source": [
    "for i in y:\n",
    "    print(i)"
   ]
  },
  {
   "cell_type": "code",
   "execution_count": 22,
   "id": "10b4198d-a7de-4a23-98d8-6b6651b2d3bb",
   "metadata": {},
   "outputs": [
    {
     "name": "stdout",
     "output_type": "stream",
     "text": [
      "80\n",
      "70\n",
      "134\n",
      "196\n",
      "44\n"
     ]
    }
   ],
   "source": [
    "for i in y:\n",
    "    print(i*2)"
   ]
  },
  {
   "cell_type": "code",
   "execution_count": 32,
   "id": "eadd210b-7026-4f92-b96e-8acb6a1b551b",
   "metadata": {},
   "outputs": [
    {
     "name": "stdout",
     "output_type": "stream",
     "text": [
      "[40, 35, 67, 98, 22]\n",
      "[40, 35, 67, 98, 22]\n",
      "[40, 35, 67, 98, 22]\n",
      "[40, 35, 67, 98, 22]\n",
      "[40, 35, 67, 98, 22]\n"
     ]
    }
   ],
   "source": [
    "for i in y:\n",
    "    print(y)"
   ]
  },
  {
   "cell_type": "code",
   "execution_count": 34,
   "id": "f03770dd-c268-4270-a62b-2e014a766eff",
   "metadata": {},
   "outputs": [
    {
     "name": "stdout",
     "output_type": "stream",
     "text": [
      "5720\n",
      "5005\n",
      "9581\n",
      "14014\n",
      "3146\n"
     ]
    }
   ],
   "source": [
    "for i in y:\n",
    "    print(i*143)"
   ]
  },
  {
   "cell_type": "code",
   "execution_count": 85,
   "id": "bbd5c41b-1f7c-4711-ac70-788d2a9b7f2e",
   "metadata": {},
   "outputs": [],
   "source": [
    "x=[]\n",
    "for i in y:\n",
    "    x.append(i*10+2)"
   ]
  },
  {
   "cell_type": "code",
   "execution_count": 87,
   "id": "5060b51f-f0a6-4144-8f5b-e8e01a01b4b3",
   "metadata": {},
   "outputs": [
    {
     "data": {
      "text/plain": [
       "[402, 352, 672, 982, 222]"
      ]
     },
     "execution_count": 87,
     "metadata": {},
     "output_type": "execute_result"
    }
   ],
   "source": [
    "x"
   ]
  },
  {
   "cell_type": "code",
   "execution_count": 71,
   "id": "547e1583-1b16-4591-ae0f-f55be7c8d0fb",
   "metadata": {},
   "outputs": [
    {
     "data": {
      "text/plain": [
       "[12, 31, 56, 78.9, 143, 98, 86, 15, 77, 66, 48]"
      ]
     },
     "execution_count": 71,
     "metadata": {},
     "output_type": "execute_result"
    }
   ],
   "source": [
    "num=[12,31,56,78.90,143,98,86,15,77,66,48]\n",
    "num"
   ]
  },
  {
   "cell_type": "code",
   "execution_count": 79,
   "id": "bef4c498-3b8d-440e-b81b-acf59977bcde",
   "metadata": {},
   "outputs": [],
   "source": [
    "even=[]\n",
    "odd=[]\n",
    "for i in num:\n",
    "    if i%2==0:\n",
    "        even.append(i)\n",
    "    else:\n",
    "        odd.append(i)"
   ]
  },
  {
   "cell_type": "code",
   "execution_count": 81,
   "id": "522c304d-7281-4ef2-8385-7d83b02964b1",
   "metadata": {},
   "outputs": [
    {
     "data": {
      "text/plain": [
       "[12, 56, 98, 86, 66, 48]"
      ]
     },
     "execution_count": 81,
     "metadata": {},
     "output_type": "execute_result"
    }
   ],
   "source": [
    "even"
   ]
  },
  {
   "cell_type": "code",
   "execution_count": 83,
   "id": "9645d8ae-6269-4b51-9f64-5e5c75fc419e",
   "metadata": {},
   "outputs": [
    {
     "data": {
      "text/plain": [
       "[31, 78.9, 143, 15, 77]"
      ]
     },
     "execution_count": 83,
     "metadata": {},
     "output_type": "execute_result"
    }
   ],
   "source": [
    "odd"
   ]
  },
  {
   "cell_type": "code",
   "execution_count": 91,
   "id": "dab51173-90ce-4566-95f7-53109fc5b90b",
   "metadata": {},
   "outputs": [
    {
     "data": {
      "text/plain": [
       "[39, 45, 66, 93, 90, 78, 67, 87, 89, 93, 25, 59, 49, 91]"
      ]
     },
     "execution_count": 91,
     "metadata": {},
     "output_type": "execute_result"
    }
   ],
   "source": [
    "num=[39,45,66,93,90,78,67,87,89,93,25,59,49,91]\n",
    "num"
   ]
  },
  {
   "cell_type": "code",
   "execution_count": 109,
   "id": "0b251468-1389-4166-89ba-9e0ca8cfb9cb",
   "metadata": {},
   "outputs": [
    {
     "name": "stdout",
     "output_type": "stream",
     "text": [
      "[39, 45, 66, 93, 90, 78, 67, 87, 89, 93, 25, 59, 41, 91]\n"
     ]
    }
   ],
   "source": [
    "\n",
    "for i in range(len(num)):\n",
    "    if num[i] == 49:\n",
    "        num[i] = 41\n",
    "\n",
    "print(num)"
   ]
  },
  {
   "cell_type": "code",
   "execution_count": 111,
   "id": "1a01ad18-70f8-47ca-96f4-541240267f3e",
   "metadata": {},
   "outputs": [],
   "source": [
    "h=[]\n",
    "for i in num:\n",
    "    a=str(i)\n",
    "    b=a.replace('9','1')\n",
    "    c=int(b)\n",
    "    h.append(c)"
   ]
  },
  {
   "cell_type": "code",
   "execution_count": 113,
   "id": "7c8c5aa8-7b65-47be-83c2-8d3765bcbc92",
   "metadata": {},
   "outputs": [
    {
     "data": {
      "text/plain": [
       "[31, 45, 66, 13, 10, 78, 67, 87, 81, 13, 25, 51, 41, 11]"
      ]
     },
     "execution_count": 113,
     "metadata": {},
     "output_type": "execute_result"
    }
   ],
   "source": [
    "h"
   ]
  },
  {
   "cell_type": "code",
   "execution_count": null,
   "id": "fe446c36-fa37-4740-946e-017417f9c3b6",
   "metadata": {},
   "outputs": [],
   "source": []
  }
 ],
 "metadata": {
  "kernelspec": {
   "display_name": "Python [conda env:base] *",
   "language": "python",
   "name": "conda-base-py"
  },
  "language_info": {
   "codemirror_mode": {
    "name": "ipython",
    "version": 3
   },
   "file_extension": ".py",
   "mimetype": "text/x-python",
   "name": "python",
   "nbconvert_exporter": "python",
   "pygments_lexer": "ipython3",
   "version": "3.12.7"
  }
 },
 "nbformat": 4,
 "nbformat_minor": 5
}
